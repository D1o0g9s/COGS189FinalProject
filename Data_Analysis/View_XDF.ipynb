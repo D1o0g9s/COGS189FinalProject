{
 "cells": [
  {
   "cell_type": "code",
   "execution_count": 1,
   "metadata": {},
   "outputs": [],
   "source": [
    "from helperFunctions import *\n",
    "from constants import *\n"
   ]
  },
  {
   "cell_type": "code",
   "execution_count": 2,
   "metadata": {},
   "outputs": [],
   "source": [
    "# Load XDF File\n",
    "filename = \"marker_only\"\n",
    "\n",
    "XDF_Path = \"./data/\"+filename+\".xdf\"\n",
    "XDF_Data = loadxdf(XDF_Path)\n"
   ]
  },
  {
   "cell_type": "code",
   "execution_count": 3,
   "metadata": {},
   "outputs": [
    {
     "data": {
      "text/plain": [
       "{'markers': {'data': array([['RecordingStart'],\n",
       "         ['CalibrationStart'],\n",
       "         ['NewImageStart'],\n",
       "         ['Face'],\n",
       "         ['./images/faces/Henry.png'],\n",
       "         ['NewImageEnd'],\n",
       "         ['NewImageStart'],\n",
       "         ['Landscape'],\n",
       "         ['./images/landscape/landscape3.jpg'],\n",
       "         ['NewImageEnd'],\n",
       "         ['NewImageStart'],\n",
       "         ['Face'],\n",
       "         ['./images/faces/Colin.jpg'],\n",
       "         ['NewImageEnd'],\n",
       "         ['NewImageStart'],\n",
       "         ['Landscape'],\n",
       "         ['./images/landscape/landscape2.jpg'],\n",
       "         ['NewImageEnd'],\n",
       "         ['NewImageStart'],\n",
       "         ['Face'],\n",
       "         ['./images/faces/Kevin.jpg'],\n",
       "         ['NewImageEnd'],\n",
       "         ['NewImageStart'],\n",
       "         ['Landscape'],\n",
       "         ['./images/landscape/landscape1.jpg'],\n",
       "         ['NewImageEnd'],\n",
       "         ['NewImageStart'],\n",
       "         ['Face'],\n",
       "         ['./images/faces/Zeyun.png'],\n",
       "         ['NewImageEnd'],\n",
       "         ['NewImageStart'],\n",
       "         ['Landscape'],\n",
       "         ['./images/landscape/landscape3.jpg'],\n",
       "         ['NewImageEnd'],\n",
       "         ['NewImageStart'],\n",
       "         ['Face'],\n",
       "         ['./images/faces/Vikash.jpg'],\n",
       "         ['NewImageEnd'],\n",
       "         ['NewImageStart'],\n",
       "         ['Landscape'],\n",
       "         ['./images/landscape/landscape2.jpg'],\n",
       "         ['NewImageEnd'],\n",
       "         ['CalibrationEnd'],\n",
       "         ['RecordingEnd']], dtype='<U33'),\n",
       "  'time': array([123138.76571203, 123142.53695694, 123142.53698195, 123142.53698744,\n",
       "         123142.64563291, 123144.65394971, 123144.65397137, 123144.65397624,\n",
       "         123144.71265159, 123146.72127543, 123146.72130341, 123146.72131   ,\n",
       "         123146.74893024, 123148.75514485, 123148.75517317, 123148.75517938,\n",
       "         123148.7912655 , 123150.80567757, 123150.8057064 , 123150.80571352,\n",
       "         123150.81355275, 123152.82230542, 123152.82233439, 123152.8223409 ,\n",
       "         123153.22638636, 123155.23971855, 123155.23975452, 123155.23976398,\n",
       "         123155.28249479, 123157.29039288, 123157.29043088, 123157.29044   ,\n",
       "         123157.34291997, 123159.35732643, 123159.35736251, 123159.35737122,\n",
       "         123159.36818776, 123161.37415902, 123161.37418715, 123161.37419363,\n",
       "         123161.39846942, 123163.40869305, 123163.40870812, 123163.40871542])}}"
      ]
     },
     "execution_count": 3,
     "metadata": {},
     "output_type": "execute_result"
    }
   ],
   "source": [
    "XDF_Data"
   ]
  },
  {
   "cell_type": "code",
   "execution_count": null,
   "metadata": {},
   "outputs": [],
   "source": []
  }
 ],
 "metadata": {
  "kernelspec": {
   "display_name": "Python 3",
   "language": "python",
   "name": "python3"
  },
  "language_info": {
   "codemirror_mode": {
    "name": "ipython",
    "version": 3
   },
   "file_extension": ".py",
   "mimetype": "text/x-python",
   "name": "python",
   "nbconvert_exporter": "python",
   "pygments_lexer": "ipython3",
   "version": "3.6.8"
  }
 },
 "nbformat": 4,
 "nbformat_minor": 2
}
