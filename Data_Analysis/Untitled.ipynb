{
 "cells": [
  {
   "cell_type": "code",
   "execution_count": 1,
   "metadata": {},
   "outputs": [],
   "source": [
    "from helperFunctions import *\n",
    "from constants import *"
   ]
  },
  {
   "cell_type": "code",
   "execution_count": 2,
   "metadata": {},
   "outputs": [],
   "source": [
    "from sklearn.linear_model import LogisticRegression\n",
    "from sklearn.model_selection import train_test_split\n",
    "import numpy"
   ]
  },
  {
   "cell_type": "code",
   "execution_count": 3,
   "metadata": {},
   "outputs": [],
   "source": [
    "from filterDataScript import *"
   ]
  },
  {
   "cell_type": "code",
   "execution_count": 4,
   "metadata": {},
   "outputs": [],
   "source": [
    "filename2 = \"part_P002_block_S001\"\n",
    "XDF_Path2 = \"./data/\"+filename2+\".xdf\"\n",
    "XDF_Data2 = loadxdf(XDF_Path2)\n",
    "\n",
    "filename3 = \"part_P003_block_S001\"\n",
    "XDF_Path3 = \"./data/\"+filename3+\".xdf\"\n",
    "XDF_Data3 = loadxdf(XDF_Path3)\n",
    "\n",
    "filename1 = \"part_P001_block_S001\"\n",
    "XDF_Path1 = \"./data/\"+filename1+\".xdf\"\n",
    "XDF_Data1 = loadxdf(XDF_Path1)"
   ]
  },
  {
   "cell_type": "code",
   "execution_count": 5,
   "metadata": {},
   "outputs": [],
   "source": [
    "trial1 = filterDataForPipline(XDF_Data1)\n",
    "trial2 = filterDataForPipline(XDF_Data2)\n",
    "trial3 = filterDataForPipline(XDF_Data3)\n"
   ]
  },
  {
   "cell_type": "code",
   "execution_count": 73,
   "metadata": {},
   "outputs": [],
   "source": [
    "trial2.extend(trial3)\n"
   ]
  },
  {
   "cell_type": "code",
   "execution_count": 6,
   "metadata": {},
   "outputs": [],
   "source": [
    "model = LogisticRegression()"
   ]
  }
 ],
 "metadata": {
  "kernelspec": {
   "display_name": "Python 3",
   "language": "python",
   "name": "python3"
  },
  "language_info": {
   "codemirror_mode": {
    "name": "ipython",
    "version": 3
   },
   "file_extension": ".py",
   "mimetype": "text/x-python",
   "name": "python",
   "nbconvert_exporter": "python",
   "pygments_lexer": "ipython3",
   "version": "3.7.3"
  }
 },
 "nbformat": 4,
 "nbformat_minor": 2
}
