{
 "cells": [
  {
   "cell_type": "code",
   "execution_count": 2,
   "metadata": {},
   "outputs": [],
   "source": [
    "from helperFunctions import *\n",
    "from constants import *"
   ]
  },
  {
   "cell_type": "code",
   "execution_count": 3,
   "metadata": {},
   "outputs": [],
   "source": [
    "from sklearn.discriminant_analysis import LinearDiscriminantAnalysis\n",
    "from sklearn.model_selection import train_test_split\n",
    "import numpy"
   ]
  },
  {
   "cell_type": "code",
   "execution_count": 4,
   "metadata": {},
   "outputs": [],
   "source": [
    "from filterDataScript import *"
   ]
  },
  {
   "cell_type": "code",
   "execution_count": 5,
   "metadata": {},
   "outputs": [],
   "source": [
    "filename2 = \"part_P002_block_S001\"\n",
    "XDF_Path2 = \"./data/\"+filename2+\".xdf\"\n",
    "XDF_Data2 = loadxdf(XDF_Path2)\n",
    "\n",
    "filename3 = \"part_P003_block_S001\"\n",
    "XDF_Path3 = \"./data/\"+filename3+\".xdf\"\n",
    "XDF_Data3 = loadxdf(XDF_Path3)\n",
    "\n",
    "filename1 = \"part_P001_block_S001\"\n",
    "XDF_Path1 = \"./data/\"+filename1+\".xdf\"\n",
    "XDF_Data1 = loadxdf(XDF_Path1)"
   ]
  },
  {
   "cell_type": "code",
   "execution_count": 6,
   "metadata": {},
   "outputs": [],
   "source": [
    "trial1 = filterDataForPipline(XDF_Data1)\n",
    "trial2 = filterDataForPipline(XDF_Data2)\n",
    "trial3 = filterDataForPipline(XDF_Data3)\n"
   ]
  },
  {
   "cell_type": "code",
   "execution_count": 11,
   "metadata": {},
   "outputs": [
    {
     "data": {
      "text/plain": [
       "(10, 2)"
      ]
     },
     "execution_count": 11,
     "metadata": {},
     "output_type": "execute_result"
    }
   ],
   "source": [
    "np.array(trial1).shape"
   ]
  },
  {
   "cell_type": "code",
   "execution_count": 28,
   "metadata": {},
   "outputs": [
    {
     "data": {
      "text/plain": [
       "array([[-35.279434 ,  -2.6564178,  -8.329411 ,   0.       ],\n",
       "       [-35.279434 ,  -2.6564178,  -8.329411 ,   0.       ],\n",
       "       [-35.279434 ,  -2.6564178,  -8.329411 ,   0.       ],\n",
       "       [-35.279434 ,  -2.6564178,  -8.329411 ,   0.       ],\n",
       "       [-28.279434 ,  -2.6564178,  -8.329411 ,   0.       ],\n",
       "       [-12.279434 ,  -2.6564178,  -8.329411 ,   0.       ],\n",
       "       [-14.279434 ,  -2.6564178,  -8.329411 ,   0.       ],\n",
       "       [-14.279434 ,  -2.6564178,  -8.329411 ,   0.       ],\n",
       "       [-14.279434 ,  -2.6564178,  -8.329411 ,   0.       ],\n",
       "       [-14.279434 ,  -2.6564178,  -8.329411 ,   0.       ],\n",
       "       [-13.279434 ,  -2.6564178,  -8.329411 ,   0.       ],\n",
       "       [-36.279434 ,  -2.6564178,  -8.329411 ,   0.       ],\n",
       "       [-41.279434 ,  -2.6564178,  -8.329411 ,   0.       ],\n",
       "       [-47.279434 ,  -2.6564178,  -8.329411 ,   0.       ],\n",
       "       [-47.279434 ,  -2.6564178,  -8.329411 ,   0.       ],\n",
       "       [-47.279434 ,  -2.6564178,  -8.329411 ,   0.       ],\n",
       "       [-47.279434 ,  -2.6564178,  -8.329411 ,   0.       ],\n",
       "       [-45.279434 ,  -2.6564178,  -8.329411 ,   0.       ],\n",
       "       [-51.279434 ,  -2.6564178,  -8.329411 ,   0.       ],\n",
       "       [-82.279434 ,  -2.6564178,  -8.329411 ,   0.       ]],\n",
       "      dtype=float32)"
      ]
     },
     "execution_count": 28,
     "metadata": {},
     "output_type": "execute_result"
    }
   ],
   "source": [
    "trial1[0][1][:20]\n"
   ]
  },
  {
   "cell_type": "code",
   "execution_count": 7,
   "metadata": {},
   "outputs": [],
   "source": [
    "model = LinearDiscriminantAnalysis()"
   ]
  },
  {
   "cell_type": "code",
   "execution_count": 43,
   "metadata": {},
   "outputs": [],
   "source": [
    "XTrial1 = []\n",
    "YTrial1 = []\n",
    "for i in trial1:\n",
    "    XTrial1.append(i[1])\n",
    "    YTrial1.append(i[0])\n",
    "\n",
    "XTrial2 = []\n",
    "YTrial2 = []\n",
    "for i in trial2:\n",
    "    XTrial2.append(i[1])\n",
    "    YTrial2.append(i[0])\n",
    "\n",
    "XTrial3 = []\n",
    "YTrial3 = []\n",
    "for i in trial3:\n",
    "    XTrial3.append(i[1])\n",
    "    YTrial3.append(i[0])"
   ]
  },
  {
   "cell_type": "code",
   "execution_count": 65,
   "metadata": {},
   "outputs": [],
   "source": [
    "XTrial1Avg = []\n",
    "for i in range(len(XTrial1)):\n",
    "    XTrial1Avg.append(np.mean(XTrial1[i], axis = 0))\n",
    "\n",
    "XTrial2Avg = []\n",
    "for i in range(len(XTrial2)):\n",
    "    XTrial2Avg.append(np.mean(XTrial2[i], axis = 0))\n",
    "\n",
    "\n",
    "XTrial3Avg = []\n",
    "for i in range(len(XTrial3)):\n",
    "    XTrial3Avg.append(np.mean(XTrial3[i], axis = 0))\n"
   ]
  },
  {
   "cell_type": "code",
   "execution_count": 66,
   "metadata": {},
   "outputs": [],
   "source": [
    "# XTrial1 = np.zeros((10, 4))\n",
    "# YTrial1 = numpy.zeros((10))\n",
    "\n",
    "# idx = 0;\n",
    "# for i in trial1:\n",
    "#     XTrial1[idx].append(i[1])\n",
    "#     YTrial1[idx] = i[0]\n",
    "#     idx += 1\n",
    "\n",
    "# idx = 0;\n",
    "# XTrial2 = numpy.zeros((20, 4))\n",
    "# YTrial2 = numpy.zeros((10))\n",
    "# for i in trial2:\n",
    "#     XTrial2[idx] = (i[1])\n",
    "#     YTrial2[idx] = (i[0])\n",
    "#     idx += 1\n",
    "\n",
    "# idx = 0;\n",
    "# XTrial3 = numpy.zeros((20, 4))\n",
    "# YTrial3 = numpy.zeros((10))\n",
    "# for i in trial3:\n",
    "#     XTrial3[idx] = (i[1])\n",
    "#     YTrial3[idx] = (i[0])\n",
    "#     idx += 1"
   ]
  },
  {
   "cell_type": "code",
   "execution_count": 68,
   "metadata": {},
   "outputs": [],
   "source": [
    "XTrain = XTrial1Avg + XTrial2Avg\n",
    "YTrain = YTrial1 + YTrial2\n",
    "\n"
   ]
  },
  {
   "cell_type": "code",
   "execution_count": 74,
   "metadata": {},
   "outputs": [
    {
     "name": "stderr",
     "output_type": "stream",
     "text": [
      "/Users/Alvin/anaconda3/lib/python3.7/site-packages/sklearn/discriminant_analysis.py:388: UserWarning: Variables are collinear.\n",
      "  warnings.warn(\"Variables are collinear.\")\n"
     ]
    },
    {
     "data": {
      "text/plain": [
       "LinearDiscriminantAnalysis(n_components=None, priors=None, shrinkage=None,\n",
       "              solver='svd', store_covariance=False, tol=0.0001)"
      ]
     },
     "execution_count": 74,
     "metadata": {},
     "output_type": "execute_result"
    }
   ],
   "source": [
    "model.fit(XTrain, YTrain)"
   ]
  },
  {
   "cell_type": "code",
   "execution_count": 70,
   "metadata": {},
   "outputs": [],
   "source": [
    "YPred= model.predict(XTrial3Avg)"
   ]
  },
  {
   "cell_type": "code",
   "execution_count": 75,
   "metadata": {},
   "outputs": [],
   "source": [
    "from sklearn.metrics import accuracy_score"
   ]
  },
  {
   "cell_type": "code",
   "execution_count": 76,
   "metadata": {},
   "outputs": [
    {
     "data": {
      "text/plain": [
       "0.5"
      ]
     },
     "execution_count": 76,
     "metadata": {},
     "output_type": "execute_result"
    }
   ],
   "source": [
    "accuracy_score(YTrial3, YPred)"
   ]
  },
  {
   "cell_type": "code",
   "execution_count": null,
   "metadata": {},
   "outputs": [],
   "source": []
  }
 ],
 "metadata": {
  "kernelspec": {
   "display_name": "Python 3",
   "language": "python",
   "name": "python3"
  },
  "language_info": {
   "codemirror_mode": {
    "name": "ipython",
    "version": 3
   },
   "file_extension": ".py",
   "mimetype": "text/x-python",
   "name": "python",
   "nbconvert_exporter": "python",
   "pygments_lexer": "ipython3",
   "version": "3.6.8"
  }
 },
 "nbformat": 4,
 "nbformat_minor": 2
}
